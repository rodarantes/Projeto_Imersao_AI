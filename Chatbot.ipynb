{
  "nbformat": 4,
  "nbformat_minor": 0,
  "metadata": {
    "colab": {
      "provenance": [],
      "authorship_tag": "ABX9TyOe2L5wPNN6fOLz39TBpSsK",
      "include_colab_link": true
    },
    "kernelspec": {
      "name": "python3",
      "display_name": "Python 3"
    },
    "language_info": {
      "name": "python"
    }
  },
  "cells": [
    {
      "cell_type": "markdown",
      "metadata": {
        "id": "view-in-github",
        "colab_type": "text"
      },
      "source": [
        "<a href=\"https://colab.research.google.com/github/rodarantes/Projeto_Imersao_AI/blob/main/Chatbot.ipynb\" target=\"_parent\"><img src=\"https://colab.research.google.com/assets/colab-badge.svg\" alt=\"Open In Colab\"/></a>"
      ]
    },
    {
      "cell_type": "code",
      "execution_count": null,
      "metadata": {
        "id": "gF9aTcDnxzdX"
      },
      "outputs": [],
      "source": [
        "!pip install -q -U google-generativeai\n",
        "# Import the Python SDK\n",
        "import google.generativeai as genai"
      ]
    },
    {
      "cell_type": "code",
      "source": [
        "# Used to securely store your API key\n",
        "from google.colab import userdata\n",
        "GOOGLE_API_KEY=userdata.get('GOOGLE_API_KEY')\n",
        "genai.configure(api_key=GOOGLE_API_KEY)"
      ],
      "metadata": {
        "id": "mmY2U9JX6Yi6"
      },
      "execution_count": null,
      "outputs": []
    },
    {
      "cell_type": "markdown",
      "source": [],
      "metadata": {
        "id": "gvg8OVGF0O3H"
      }
    },
    {
      "cell_type": "code",
      "source": [
        "model = genai.GenerativeModel('gemini-pro')\n",
        "for m in genai.list_models():\n",
        "  if 'generateContent' in m.supported_generation_methods:\n",
        "    print(m.name)"
      ],
      "metadata": {
        "colab": {
          "base_uri": "https://localhost:8080/",
          "height": 138
        },
        "id": "BeMlwX4J0tl1",
        "outputId": "2dac5a6f-ee65-4e99-f31a-c282890a9a63"
      },
      "execution_count": null,
      "outputs": [
        {
          "output_type": "stream",
          "name": "stdout",
          "text": [
            "models/gemini-1.0-pro\n",
            "models/gemini-1.0-pro-001\n",
            "models/gemini-1.0-pro-latest\n",
            "models/gemini-1.0-pro-vision-latest\n",
            "models/gemini-1.5-pro-latest\n",
            "models/gemini-pro\n",
            "models/gemini-pro-vision\n"
          ]
        }
      ]
    },
    {
      "cell_type": "code",
      "source": [
        "generation_config = {\n",
        "    \"candidate_count\": 1,\n",
        "    \"temperature\": 0.5,\n",
        "}"
      ],
      "metadata": {
        "id": "fasRNABd3IT7"
      },
      "execution_count": null,
      "outputs": []
    },
    {
      "cell_type": "code",
      "source": [
        "safety_settings = {\n",
        "    \"HARASSMENT\": \"BLOCK_NONE\",\n",
        "    \"SEXUAL\": \"BLOCK_NONE\",\n",
        "    \"DANGEROUS\": \"BLOCK_NONE\",\n",
        "# Exemplo de padrão: \"HARASSMENT\": \"BLOCKSUM\",\n",
        "}"
      ],
      "metadata": {
        "id": "9-CLUh7A3uNX"
      },
      "execution_count": null,
      "outputs": []
    },
    {
      "cell_type": "markdown",
      "source": [
        "INICIALIZANDO"
      ],
      "metadata": {
        "id": "e39UoPPf5CVu"
      }
    },
    {
      "cell_type": "code",
      "source": [
        "model = genai.GenerativeModel(model_name=\"gemini-1.0-pro\",\n",
        "                              generation_config=generation_config,\n",
        "                              safety_settings=safety_settings)"
      ],
      "metadata": {
        "id": "UjI0ebqw33Oe"
      },
      "execution_count": null,
      "outputs": []
    },
    {
      "cell_type": "code",
      "source": [
        "chat = model.start_chat(history=[])"
      ],
      "metadata": {
        "id": "bgv23uM852UE"
      },
      "execution_count": null,
      "outputs": []
    },
    {
      "cell_type": "code",
      "source": [
        "prompt = input(\"Esperando prompt: \")\n",
        "while prompt != \"fim\":\n",
        "  response = chat.send_message(prompt)\n",
        "  print(\"Resposta: \", response.text, \"\\n\")\n",
        "  prompt = input(\"Esperando prompt: \")"
      ],
      "metadata": {
        "colab": {
          "base_uri": "https://localhost:8080/",
          "height": 818
        },
        "id": "bQtJu9U67U9_",
        "outputId": "ee4c4b34-bfa6-4dd7-bd62-5ba50456a04f"
      },
      "execution_count": null,
      "outputs": [
        {
          "name": "stdout",
          "output_type": "stream",
          "text": [
            "Esperando prompt: me fale sobre Clube Atletico Mineiro\n",
            "Resposta:  **Clube Atlético Mineiro**\n",
            "\n",
            "**Apelidos:** Galo, Alvinegro\n",
            "\n",
            "**Fundação:** 25 de março de 1908\n",
            "\n",
            "**Cidade:** Belo Horizonte, Minas Gerais\n",
            "\n",
            "**Estádio:** Mineirão\n",
            "\n",
            "**Cores:** Preto e branco\n",
            "\n",
            "**Títulos:**\n",
            "\n",
            "* **Campeonato Brasileiro Série A:** 2 (1971, 2021)\n",
            "* **Copa do Brasil:** 2 (2014, 2021)\n",
            "* **Campeonato Mineiro:** 47 (1915-1917, 1920-1921, 1924-1927, 1929-1931, 1932-1936, 1938-1942, 1946-1947, 1949-1950, 1952-1953, 1955-1958, 1962-1963, 1970, 1976-1978, 1980-1983, 1985-1989, 1991, 1995, 1999-2000, 2007, 2010, 2012-2013, 2015, 2017, 2020-2022)\n",
            "* **Copa Libertadores da América:** 1 (2013)\n",
            "* **Recopa Sul-Americana:** 1 (2014)\n",
            "\n",
            "**História:**\n",
            "\n",
            "O Clube Atlético Mineiro foi fundado em 1908 por um grupo de estudantes e jovens da elite de Belo Horizonte. O clube rapidamente se tornou uma potência no futebol mineiro e conquistou seu primeiro Campeonato Mineiro em 1915.\n",
            "\n",
            "Na década de 1970, o Atlético Mineiro ganhou destaque nacional ao conquistar seu primeiro Campeonato Brasileiro em 1971. O clube também foi vice-campeão da Taça Libertadores da América em 1971 e 1978.\n",
            "\n",
            "Nos anos 2000, o Atlético Mineiro voltou a conquistar títulos importantes, vencendo a Copa Libertadores da América em 2013 e a Copa do Brasil em 2014. O clube também conquistou o Campeonato Brasileiro em 2021.\n",
            "\n",
            "**Ídolos:**\n",
            "\n",
            "* Reinaldo\n",
            "* Toninho Cerezo\n",
            "* Ronaldinho Gaúcho\n",
            "* Diego Tardelli\n",
            "* Hulk\n",
            "\n",
            "**Rivalidades:**\n",
            "\n",
            "* Cruzeiro\n",
            "* América Mineiro\n",
            "* Corinthians\n",
            "* Flamengo \n",
            "\n",
            "Esperando prompt: fim\n"
          ]
        }
      ]
    },
    {
      "cell_type": "code",
      "source": [
        "chat"
      ],
      "metadata": {
        "colab": {
          "base_uri": "https://localhost:8080/"
        },
        "id": "kBtTruiMFMvd",
        "outputId": "0f432040-4c3f-4427-e882-29bcc359201f"
      },
      "execution_count": null,
      "outputs": [
        {
          "output_type": "execute_result",
          "data": {
            "text/plain": [
              "ChatSession(\n",
              "    model=genai.GenerativeModel(\n",
              "        model_name='models/gemini-1.0-pro',\n",
              "        generation_config={'candidate_count': 1, 'temperature': 0.5},\n",
              "        safety_settings={<HarmCategory.HARM_CATEGORY_HARASSMENT: 7>: <HarmBlockThreshold.BLOCK_NONE: 4>, <HarmCategory.HARM_CATEGORY_SEXUALLY_EXPLICIT: 9>: <HarmBlockThreshold.BLOCK_NONE: 4>, <HarmCategory.HARM_CATEGORY_DANGEROUS_CONTENT: 10>: <HarmBlockThreshold.BLOCK_NONE: 4>},\n",
              "        tools=None,\n",
              "        system_instruction=None,\n",
              "    ),\n",
              "    history=[glm.Content({'parts': [{'text': 'qual a capital da korea'}], 'role': 'user'}), glm.Content({'parts': [{'text': 'Seul'}], 'role': 'model'}), glm.Content({'parts': [{'text': 'qual a capital da korea'}], 'role': 'user'}), glm.Content({'parts': [{'text': 'Seul'}], 'role': 'model'}), glm.Content({'parts': [{'text': 'qual a comid...ca deste pais'}], 'role': 'user'}), glm.Content({'parts': [{'text': 'Kimchi'}], 'role': 'model'}), glm.Content({'parts': [{'text': 'qual a popul...dessa cidade?'}], 'role': 'user'}), glm.Content({'parts': [{'text': '9.962.384 (2023)'}], 'role': 'model'})]\n",
              ")"
            ]
          },
          "metadata": {},
          "execution_count": 36
        }
      ]
    },
    {
      "cell_type": "code",
      "source": [
        "chat.history"
      ],
      "metadata": {
        "colab": {
          "base_uri": "https://localhost:8080/"
        },
        "id": "2yLhmDzGFQ1W",
        "outputId": "14a70617-1df1-4ec7-9f6e-a6c554817d84"
      },
      "execution_count": null,
      "outputs": [
        {
          "output_type": "execute_result",
          "data": {
            "text/plain": [
              "[parts {\n",
              "   text: \"qual a capital da korea\"\n",
              " }\n",
              " role: \"user\",\n",
              " parts {\n",
              "   text: \"Seul\"\n",
              " }\n",
              " role: \"model\",\n",
              " parts {\n",
              "   text: \"qual a capital da korea\"\n",
              " }\n",
              " role: \"user\",\n",
              " parts {\n",
              "   text: \"Seul\"\n",
              " }\n",
              " role: \"model\",\n",
              " parts {\n",
              "   text: \"qual a comida tipica deste pais\"\n",
              " }\n",
              " role: \"user\",\n",
              " parts {\n",
              "   text: \"Kimchi\"\n",
              " }\n",
              " role: \"model\",\n",
              " parts {\n",
              "   text: \"qual a popula\\303\\247\\303\\243o dessa cidade?\"\n",
              " }\n",
              " role: \"user\",\n",
              " parts {\n",
              "   text: \"9.962.384 (2023)\"\n",
              " }\n",
              " role: \"model\"]"
            ]
          },
          "metadata": {},
          "execution_count": 37
        }
      ]
    },
    {
      "cell_type": "code",
      "source": [
        "# Melhorando a visualização\n",
        "# Código disponível em https://ai.google.dev/tutorials/python/quickstart\n",
        "\n",
        "import textwrap\n",
        "from IPython.display import display\n",
        "from IPython.display import Markdown\n",
        "\n",
        "def to_markdown(text):\n",
        "    text = text.replace(\"'\", '\"')\n",
        "    return Markdown(textwrap.indent(text, '> '))\n",
        "\n",
        "# Imprimindo o histórico\n",
        "for message in chat.history:\n",
        "    display(to_markdown(f\"**{message.role}:** {message.parts[0].text}\"))\n",
        "    print(\"---\")"
      ],
      "metadata": {
        "colab": {
          "base_uri": "https://localhost:8080/",
          "height": 519
        },
        "id": "Pk2vh4DQCgwY",
        "outputId": "74b5173f-5ed7-4dd4-9b44-86d4b2cd7bce"
      },
      "execution_count": null,
      "outputs": [
        {
          "output_type": "display_data",
          "data": {
            "text/plain": [
              "<IPython.core.display.Markdown object>"
            ],
            "text/markdown": "> **user:** qual a capital da korea"
          },
          "metadata": {}
        },
        {
          "output_type": "stream",
          "name": "stdout",
          "text": [
            "---\n"
          ]
        },
        {
          "output_type": "display_data",
          "data": {
            "text/plain": [
              "<IPython.core.display.Markdown object>"
            ],
            "text/markdown": "> **model:** Seul"
          },
          "metadata": {}
        },
        {
          "output_type": "stream",
          "name": "stdout",
          "text": [
            "---\n"
          ]
        },
        {
          "output_type": "display_data",
          "data": {
            "text/plain": [
              "<IPython.core.display.Markdown object>"
            ],
            "text/markdown": "> **user:** qual a capital da korea"
          },
          "metadata": {}
        },
        {
          "output_type": "stream",
          "name": "stdout",
          "text": [
            "---\n"
          ]
        },
        {
          "output_type": "display_data",
          "data": {
            "text/plain": [
              "<IPython.core.display.Markdown object>"
            ],
            "text/markdown": "> **model:** Seul"
          },
          "metadata": {}
        },
        {
          "output_type": "stream",
          "name": "stdout",
          "text": [
            "---\n"
          ]
        },
        {
          "output_type": "display_data",
          "data": {
            "text/plain": [
              "<IPython.core.display.Markdown object>"
            ],
            "text/markdown": "> **user:** qual a comida tipica deste pais"
          },
          "metadata": {}
        },
        {
          "output_type": "stream",
          "name": "stdout",
          "text": [
            "---\n"
          ]
        },
        {
          "output_type": "display_data",
          "data": {
            "text/plain": [
              "<IPython.core.display.Markdown object>"
            ],
            "text/markdown": "> **model:** Kimchi"
          },
          "metadata": {}
        },
        {
          "output_type": "stream",
          "name": "stdout",
          "text": [
            "---\n"
          ]
        },
        {
          "output_type": "display_data",
          "data": {
            "text/plain": [
              "<IPython.core.display.Markdown object>"
            ],
            "text/markdown": "> **user:** qual a população dessa cidade?"
          },
          "metadata": {}
        },
        {
          "output_type": "stream",
          "name": "stdout",
          "text": [
            "---\n"
          ]
        },
        {
          "output_type": "display_data",
          "data": {
            "text/plain": [
              "<IPython.core.display.Markdown object>"
            ],
            "text/markdown": "> **model:** 9.962.384 (2023)"
          },
          "metadata": {}
        },
        {
          "output_type": "stream",
          "name": "stdout",
          "text": [
            "---\n"
          ]
        }
      ]
    },
    {
      "cell_type": "code",
      "source": [
        "prompt = input(\"Esperando prompt: \")\n",
        "while prompt != \"fim\":\n",
        "  response = chat.send_message(prompt)\n",
        "  print(\"Resposta: \", response.text, \"\\n\")\n",
        "  prompt = input(\"Esperando prompt: \")"
      ],
      "metadata": {
        "colab": {
          "base_uri": "https://localhost:8080/"
        },
        "id": "J7cA297YF-d6",
        "outputId": "19384462-9419-49c1-90e3-40f02edde137"
      },
      "execution_count": null,
      "outputs": [
        {
          "metadata": {
            "tags": null
          },
          "name": "stdout",
          "output_type": "stream",
          "text": [
            "Resposta:  **Emergências que precisam de doações no Brasil hoje:**\n",
            "\n",
            "* **Enchentes no litoral norte de São Paulo:** Doações de alimentos não perecíveis, água potável, produtos de higiene pessoal, roupas, colchões e cobertores.\n",
            "* **Terremoto na Turquia e na Síria:** Doações de alimentos não perecíveis, água potável, medicamentos, tendas, cobertores e kits de higiene.\n",
            "* **Conflitos na Ucrânia:** Doações de alimentos não perecíveis, água potável, medicamentos, roupas de inverno e kits de higiene.\n",
            "* **Fome na África Oriental:** Doações de alimentos não perecíveis, água potável, medicamentos e kits de higiene.\n",
            "* **Deslizamentos de terra em Petrópolis, RJ:** Doações de alimentos não perecíveis, água potável, produtos de higiene pessoal, roupas e colchões.\n",
            "\n",
            "**Como doar:**\n",
            "\n",
            "* Entre em contato com organizações humanitárias como Cruz Vermelha, Cáritas ou UNICEF.\n",
            "* Doe diretamente para as vítimas por meio de plataformas online como Vaquinha Virtual ou GoFundMe.\n",
            "* Doe alimentos e produtos de higiene em pontos de coleta organizados por supermercados, igrejas ou ONGs locais.\n",
            "\n",
            "**Observação:** É importante verificar a idoneidade das organizações antes de fazer qualquer doação. \n",
            "\n",
            "Resposta:  **Emergências brasileiras que precisam de doações hoje:**\n",
            "\n",
            "* **Enchentes no litoral norte de São Paulo:** Doações de alimentos não perecíveis, água potável, produtos de higiene pessoal, roupas, colchões e cobertores.\n",
            "* **Deslizamentos de terra em Petrópolis, RJ:** Doações de alimentos não perecíveis, água potável, produtos de higiene pessoal, roupas e colchões.\n",
            "* **Fome no Nordeste:** Doações de alimentos não perecíveis, água potável e kits de higiene.\n",
            "* **População indígena Yanomami em Roraima:** Doações de alimentos não perecíveis, medicamentos, água potável e kits de higiene.\n",
            "* **Comunidades afetadas pela seca no sertão nordestino:** Doações de alimentos não perecíveis, água potável e kits de higiene.\n",
            "\n",
            "**Como doar:**\n",
            "\n",
            "* Entre em contato com organizações humanitárias como Cruz Vermelha, Cáritas ou UNICEF.\n",
            "* Doe diretamente para as vítimas por meio de plataformas online como Vaquinha Virtual ou GoFundMe.\n",
            "* Doe alimentos e produtos de higiene em pontos de coleta organizados por supermercados, igrejas ou ONGs locais.\n",
            "\n",
            "**Observação:** É importante verificar a idoneidade das organizações antes de fazer qualquer doação. \n",
            "\n"
          ]
        }
      ]
    }
  ]
}