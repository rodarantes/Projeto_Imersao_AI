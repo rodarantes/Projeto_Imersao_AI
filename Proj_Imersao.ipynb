{
  "nbformat": 4,
  "nbformat_minor": 0,
  "metadata": {
    "colab": {
      "provenance": [],
      "include_colab_link": true
    },
    "kernelspec": {
      "name": "python3",
      "display_name": "Python 3"
    },
    "language_info": {
      "name": "python"
    }
  },
  "cells": [
    {
      "cell_type": "markdown",
      "metadata": {
        "id": "view-in-github",
        "colab_type": "text"
      },
      "source": [
        "<a href=\"https://colab.research.google.com/github/rodarantes/Projeto_Imersao_AI/blob/main/Proj_Imersao.ipynb\" target=\"_parent\"><img src=\"https://colab.research.google.com/assets/colab-badge.svg\" alt=\"Open In Colab\"/></a>"
      ]
    },
    {
      "cell_type": "code",
      "execution_count": 6,
      "metadata": {
        "id": "4GJT0kAgInh9"
      },
      "outputs": [],
      "source": [
        "!pip install -q -U google-generativeai\n",
        "# Import the Python SDK\n",
        "from pathlib import Path\n",
        "import hashlib\n",
        "import google.generativeai as genai\n",
        "\n",
        "# Used to securely store your API key\n",
        "from google.colab import userdata\n",
        "GOOGLE_API_KEY=userdata.get('GOOGLE_API_KEY')\n",
        "genai.configure(api_key=GOOGLE_API_KEY)"
      ]
    },
    {
      "cell_type": "markdown",
      "source": [
        "Definindo o modelo"
      ],
      "metadata": {
        "id": "WgHURLKXX2-h"
      }
    },
    {
      "cell_type": "code",
      "source": [
        "model = genai.GenerativeModel(model_name=\"gemini-1.5-pro-latest\")"
      ],
      "metadata": {
        "colab": {
          "base_uri": "https://localhost:8080/"
        },
        "id": "g1ssKLs8XRIG",
        "outputId": "423d9b6f-b74c-4308-9354-4d74aa29e730"
      },
      "execution_count": 3,
      "outputs": [
        {
          "output_type": "execute_result",
          "data": {
            "text/plain": [
              "genai.GenerativeModel(\n",
              "    model_name='models/gemini-1.5-pro-latest',\n",
              "    generation_config={},\n",
              "    safety_settings={},\n",
              "    tools=None,\n",
              "    system_instruction=None,\n",
              ")"
            ]
          },
          "metadata": {},
          "execution_count": 3
        }
      ]
    },
    {
      "cell_type": "code",
      "source": [
        "chat = model.start_chat(history=[])\n",
        "\n",
        "# Melhorando a visualização\n",
        "# Código disponível em https://ai.google.dev/tutorials/python/quickstart\n",
        "\n",
        "import textwrap\n",
        "from IPython.display import display\n",
        "from IPython.display import Markdown\n",
        "\n",
        "def to_markdown(text):\n",
        "    text = text.replace(\"'\", '\"')\n",
        "    return Markdown(textwrap.indent(text, '> '))\n"
      ],
      "metadata": {
        "id": "xMNW7o36V42f"
      },
      "execution_count": 4,
      "outputs": []
    },
    {
      "cell_type": "code",
      "source": [
        "prompt = input(\"Esperando prompt: \")\n",
        "while prompt != \"fim\":\n",
        "  response = chat.send_message(prompt)\n",
        "  print(\"Resposta: \", response.text, \"\\n\")\n",
        "  prompt = input(\"Esperando prompt: \")"
      ],
      "metadata": {
        "id": "wqhi0xtOXwj_"
      },
      "execution_count": null,
      "outputs": []
    },
    {
      "cell_type": "code",
      "source": [
        "from os import path\n",
        "\"\"\"\n",
        "At the command line, only need to run once to install the package via pip:\n",
        "\n",
        "$ pip install google-generativeai\n",
        "\n",
        "from pathlib import Path\n",
        "import hashlib\n",
        "import google.generativeai as genai\n",
        "\n",
        "genai.configure(api_key=\"YOUR_API_KEY\")\n",
        "\"\"\"\n",
        "\n",
        "# Set up the model\n",
        "generation_config = {\n",
        "  \"temperature\": 1,\n",
        "  \"top_p\": 0.95,\n",
        "  \"top_k\": 0,\n",
        "  \"max_output_tokens\": 8192,\n",
        "}\n",
        "\n",
        "safety_settings = [\n",
        "  {\n",
        "    \"category\": \"HARM_CATEGORY_HARASSMENT\",\n",
        "    \"threshold\": \"BLOCK_MEDIUM_AND_ABOVE\"\n",
        "  },\n",
        "  {\n",
        "    \"category\": \"HARM_CATEGORY_HATE_SPEECH\",\n",
        "    \"threshold\": \"BLOCK_MEDIUM_AND_ABOVE\"\n",
        "  },\n",
        "  {\n",
        "    \"category\": \"HARM_CATEGORY_SEXUALLY_EXPLICIT\",\n",
        "    \"threshold\": \"BLOCK_MEDIUM_AND_ABOVE\"\n",
        "  },\n",
        "  {\n",
        "    \"category\": \"HARM_CATEGORY_DANGEROUS_CONTENT\",\n",
        "    \"threshold\": \"BLOCK_MEDIUM_AND_ABOVE\"\n",
        "  },\n",
        "]\n",
        "\n",
        "model = genai.GenerativeModel(model_name=\"gemini-1.5-pro-latest\",\n",
        "                              generation_config=generation_config,\n",
        "                              safety_settings=safety_settings)\n",
        "\n",
        "prompt_parts = [\n",
        "  \"input: \",\n",
        "  genai.upload_file(\"<path>/image0.png\"),\n",
        "  \"Leia este cartão de vacinação e identifique as vacinas e os anos em que foram tomadas.\",\n",
        "  \"input 2: User Test, 50 anos.\\nListe de forma concisa todas as vacinas esperadas para uma pessoa de 03 anos durante toda a sua vida, conforme o ministério da saúde do Brasil.\",\n",
        "  \"output: Vacinas tomadas por User Test de 50 anos.\\nPólio: 1982, 1982, 1982, 1983.\\nD.P.T.: 1982, 1982, 1982,1983.\\nB.C.G.: 1982.\\nFebre Amarela: 1999,2009.\\nSarampo: 1982.\\nM.M.R: 1983.\\nTriviral: 2003.\\nHepatite B: 2014,2014.\\nTetano: 2001, 2014. \\nDupla: 1989.\\nSabin: 1989.\\nInfluenza: 2012, 2013, 2014.\\nH1N1: 2010.\\nMeningo: 2014.\",\n",
        "  \"output 2: Uma pessoa de 50 anos no Brasil deve ter recebido as seguintes vacinas ao longo da vida, de acordo com o Ministério da Saúde:\\nVacinas Infantis:\\nBCG (tuberculose)\\nHepatite B\\nPentavalente (difteria, tétano, coqueluche, Haemophilus influenzae tipo b e hepatite B)\\nPoliomielite (VIP e VOP)\\nRotavírus\\nPneumocócica 10-valente\\nMeningocócica C\\nSarampo, Caxumba, Rubéola (tríplice viral)\\nVaricela\\nFebre amarela (em áreas recomendadas)\\nVacinas para Adultos:\\nDifteria e Tétano (dT) - reforços a cada 10 anos\\nGripe (anualmente)\\nHerpes-zóster (recomendada a partir dos 50 anos)\\nVacinas que podem ser necessárias agora:\\nPneumocócica 23-valente (recomendada para maiores de 60 anos e grupos de risco, mas pode ser administrada antes)\\nVacinas recomendadas com base no risco individual:\\nHepatite A\\nHepatite B (três doses para quem não completou o esquema na infância)\\nMeningocócica ACWY e outras\\nFebre amarela (para viajantes com destino a áreas de risco)\\nRaiva (para profissionais expostos ao vírus)\",\n",
        "  \"input: \",\n",
        "  genai.upload_file(\"<path>/image1.png\"),\n",
        "  \"Leia este cartão de vacinação e identifique as vacinas e os anos em que foram tomadas.\",\n",
        "  \"input 2: User Test 2, 45 anos.\\nListe de forma concisa todas as vacinas esperadas para uma pessoa de 03 anos durante toda a sua vida, conforme o ministério da saúde do Brasil.\",\n",
        "  \"output: Vacinas tomadas por User Test 2 de 45 anos.\\nPólio: 2010, 2010, 2010, 2011.\",\n",
        "  \"output 2: Uma pessoa de 45 anos no Brasil deve ter recebido as seguintes vacinas ao longo da vida, de acordo com o Ministério da Saúde:\\nVacinas Infantis:\\nBCG (tuberculose)\\nHepatite B\\nPentavalente (difteria, tétano, coqueluche, Haemophilus influenzae tipo b e hepatite B)\\nPoliomielite (VIP e VOP)\\nRotavírus\\nPneumocócica 10-valente\\nMeningocócica C\\nSarampo, Caxumba, Rubéola (tríplice viral)\\nVaricela\\nFebre amarela (em áreas recomendadas)\\nVacinas para Adultos:\\nDifteria e Tétano (dT) - reforços a cada 10 anos\\nGripe (anualmente para grupos prioritários, incluindo pessoas com 45 anos ou mais)\\nHepatite B (três doses para quem não completou o esquema na infância)\\nVacinas que podem ser necessárias agora:\\nHerpes-zóster (recomendada para maiores de 50 anos, mas pode ser administrada antes)\\nPneumocócica 23-valente (recomendada para maiores de 60 anos e grupos de risco, mas pode ser administrada antes)\\nVacinas recomendadas com base no risco individual:\\nHepatite A\\nMeningocócica ACWY e outras\\nFebre amarela (para viajantes com destino a áreas de risco)\\nRaiva (para profissionais expostos ao vírus)\",\n",
        "  \"input: \",\n",
        "  genai.upload_file(\"<path>/image2.png\"),\n",
        "  \"Leia este cartão de vacinação e identifique as vacinas e os anos em que foram tomadas.\",\n",
        "  \"input 2: User Test 3, 24 anos.\\nListe de forma concisa todas as vacinas esperadas para uma pessoa de 03 anos durante toda a sua vida, conforme o ministério da saúde do Brasil.\",\n",
        "  \"output: Vacinas tomadas por User Test 3 de 24 anos.\\nVOP: 2018.\\nGripe: 2018\",\n",
        "  \"output 2: Uma pessoa de 24 anos no Brasil deve ter recebido as seguintes vacinas ao longo da vida, de acordo com o Ministério da Saúde:\\nVacinas Infantis:\\nBCG (tuberculose)\\nHepatite B\\nPentavalente (difteria, tétano, coqueluche, Haemophilus influenzae tipo b e hepatite B)\\nPoliomielite (VIP e VOP)\\nRotavírus\\nPneumocócica 10-valente\\nMeningocócica C\\nSarampo, Caxumba, Rubéola (tríplice viral)\\nVaricela\\nFebre amarela (em áreas recomendadas)\\nVacinas para Adultos:\\nDifteria e Tétano (dT) - reforços a cada 10 anos\\nGripe (anualmente para grupos prioritários, incluindo pessoas com doenças crônicas)\\nVacinas que podem ser necessárias agora:\\nHepatite B (três doses para quem não completou o esquema na infância)\\nHPV (para mulheres de 9 a 45 anos e homens de 11 a 45 anos, em esquema de duas ou três doses)\\nTríplice viral (reforço para quem não tomou duas doses na infância)\\nVacinas recomendadas com base no risco individual:\\nHepatite A\\nMeningocócica ACWY e outras\\nFebre amarela (para viajantes com destino a áreas de risco)\\nRaiva (para profissionais expostos ao vírus)\",\n",
        "  \"input: \",\n",
        "  genai.upload_file(\"<path>/image3.png\"),\n",
        "  \"Leia este cartão de vacinação e identifique as vacinas e os anos em que foram tomadas.\",\n",
        "  \"input 2: User Test 4, 12 anos.\\nListe de forma concisa todas as vacinas esperadas para uma pessoa de 03 anos durante toda a sua vida, conforme o ministério da saúde do Brasil.\",\n",
        "  \"output: Vacinas tomadas por User Test 4 de 12 anos.\\nHepatite B: 2016.\\nFebre Amarela: 2017.\",\n",
        "  \"output 2: Uma pessoa de 12 anos no Brasil deve ter recebido as seguintes vacinas ao longo da vida, de acordo com o Ministério da Saúde:\\nVacinas Infantis:\\nBCG (tuberculose)\\nHepatite B\\nPentavalente (difteria, tétano, coqueluche, Haemophilus influenzae tipo b e hepatite B)\\nPoliomielite (VIP e VOP)\\nRotavírus\\nPneumocócica 10-valente\\nMeningocócica C\\nSarampo, Caxumba, Rubéola (tríplice viral)\\nVaricela\\nFebre amarela (em áreas recomendadas)\\nVacinas na Adolescência:\\nHPV (para meninas de 9 a 14 anos e meninos de 11 a 14 anos, em esquema de duas doses)\\nMeningocócica ACWY (uma dose)\\nTríplice viral (reforço para quem não tomou duas doses na infância)\\nVacinas que podem ser necessárias em breve:\\ndT (difteria e tétano) - reforço aos 15 anos\\nVacinas recomendadas com base no risco individual:\\nHepatite A\\nMeningocócica B\\nFebre amarela (para viajantes com destino a áreas de risco)\\nRaiva (para profissionais expostos ao vírus)\",\n",
        "  \"input: \",\n",
        "  genai.upload_file(\"<path>/image4.png\"),\n",
        "  \"Leia este cartão de vacinação e identifique as vacinas e os anos em que foram tomadas.\",\n",
        "  \"input 2: User Test 5, 6 anos.\\nListe de forma concisa todas as vacinas esperadas para uma pessoa de 03 anos durante toda a sua vida, conforme o ministério da saúde do Brasil.\",\n",
        "  \"output: Vacinas tomadas por User Test 5 de 06 anos.\\nTríplice DPT: 1996, 1997, 1997.\",\n",
        "  \"output 2: Uma criança de 6 anos no Brasil deve ter recebido as seguintes vacinas, de acordo com o Ministério da Saúde:\\nVacinas Infantis:\\nBCG (tuberculose): dose única ao nascer.\\nHepatite B: 3 doses, idealmente iniciando ao nascer.\\nPentavalente: 3 doses, geralmente aos 2, 4 e 6 meses de idade. Protege contra difteria, tétano, coqueluche, Haemophilus influenzae tipo b e hepatite B.\\nPoliomielite (VIP e VOP): 3 doses da VIP, geralmente aos 2, 4 e 6 meses, e 2 doses da VOP, geralmente aos 15 meses e 4 anos.\\nRotavírus: 2 ou 3 doses, dependendo da vacina utilizada, geralmente aos 2 e 4 meses.\\nPneumocócica 10-valente: 3 doses, geralmente aos 2, 4 e 6 meses, e um reforço aos 12 meses.\\nMeningocócica C: 2 doses, geralmente aos 3 e 5 meses, e um reforço aos 12 meses.\\nSarampo, Caxumba, Rubéola (tríplice viral): 2 doses, geralmente aos 12 meses e aos 15 meses.\\nVaricela: 1 dose aos 15 meses.\\nFebre amarela: 1 dose aos 9 meses (em áreas recomendadas).\",\n",
        "  \"input: \",\n",
        "  genai.upload_file(\"<path>/image5.png\"),\n",
        "  \"Leia este cartão de vacinação e identifique as vacinas e os anos em que foram tomadas.\",\n",
        "  \"input 2: User Test 6, 03 anos.\\nListe de forma concisa todas as vacinas esperadas para uma pessoa de 03 anos durante toda a sua vida, conforme o ministério da saúde do Brasil.\",\n",
        "  \"output: Vacinas tomadas por User Test 6 de 03 anos.\\nRotavirus: 2017, 2018.\",\n",
        "  \"output 2: Uma criança de 3 anos no Brasil deve ter recebido as seguintes vacinas, de acordo com o Ministério da Saúde:\\nVacinas Infantis:\\nBCG (tuberculose): dose única ao nascer.\\nHepatite B: 3 doses, idealmente iniciando ao nascer.\\nPentavalente: 3 doses, geralmente aos 2, 4 e 6 meses de idade. Protege contra difteria, tétano, coqueluche, Haemophilus influenzae tipo b e hepatite B.\\nPoliomielite (VIP e VOP): 3 doses da VIP, geralmente aos 2, 4 e 6 meses, e 1 dose da VOP, geralmente aos 15 meses.\\nRotavírus: 2 ou 3 doses, dependendo da vacina utilizada, geralmente aos 2 e 4 meses.\\nPneumocócica 10-valente: 3 doses, geralmente aos 2, 4 e 6 meses.\\nMeningocócica C: 2 doses, geralmente aos 3 e 5 meses.\\nSarampo, Caxumba, Rubéola (tríplice viral): 1 dose, geralmente aos 12 meses.\\nFebre amarela: 1 dose aos 9 meses (em áreas recomendadas).\",\n",
        "  \"input: \",\n",
        "  genai.upload_file(\"<path>/image6.png\"),\n",
        "  \"input 2: João, 10 anos.\\nListe de forma concisa todas as vacinas esperadas para uma pessoa de 03 anos durante toda a sua vida, conforme o ministério da saúde do Brasil.\",\n",
        "  \"output: \",\n",
        "]\n",
        "\n",
        "response = model.generate_content(prompt_parts)\n",
        "print(response.text)"
      ],
      "metadata": {
        "colab": {
          "base_uri": "https://localhost:8080/",
          "height": 356
        },
        "id": "cxKIeCCTmyZ2",
        "outputId": "3281cfeb-9d51-4f1f-de7e-eeabf55bdf3d"
      },
      "execution_count": 14,
      "outputs": [
        {
          "output_type": "error",
          "ename": "FileNotFoundError",
          "evalue": "[Errno 2] No such file or directory: '<path>/image1.png'",
          "traceback": [
            "\u001b[0;31m---------------------------------------------------------------------------\u001b[0m",
            "\u001b[0;31mFileNotFoundError\u001b[0m                         Traceback (most recent call last)",
            "\u001b[0;32m<ipython-input-14-5a795dd2ab83>\u001b[0m in \u001b[0;36m<cell line: 44>\u001b[0;34m()\u001b[0m\n\u001b[1;32m     44\u001b[0m prompt_parts = [\n\u001b[1;32m     45\u001b[0m   \u001b[0;34m\"input: \"\u001b[0m\u001b[0;34m,\u001b[0m\u001b[0;34m\u001b[0m\u001b[0;34m\u001b[0m\u001b[0m\n\u001b[0;32m---> 46\u001b[0;31m   \u001b[0mgenai\u001b[0m\u001b[0;34m.\u001b[0m\u001b[0mupload_file\u001b[0m\u001b[0;34m(\u001b[0m\u001b[0;34m\"<path>/image1.png\"\u001b[0m\u001b[0;34m)\u001b[0m\u001b[0;34m,\u001b[0m\u001b[0;34m\u001b[0m\u001b[0;34m\u001b[0m\u001b[0m\n\u001b[0m\u001b[1;32m     47\u001b[0m   \u001b[0;34m\"Leia este cartão de vacinação e identifique as vacinas e os anos em que foram tomadas.\"\u001b[0m\u001b[0;34m,\u001b[0m\u001b[0;34m\u001b[0m\u001b[0;34m\u001b[0m\u001b[0m\n\u001b[1;32m     48\u001b[0m   \u001b[0;34m\"input 2: User Test, 50 anos.\\nListe de forma concisa todas as vacinas esperadas para uma pessoa de 03 anos durante toda a sua vida, conforme o ministério da saúde do Brasil.\"\u001b[0m\u001b[0;34m,\u001b[0m\u001b[0;34m\u001b[0m\u001b[0;34m\u001b[0m\u001b[0m\n",
            "\u001b[0;32m/usr/local/lib/python3.10/dist-packages/google/generativeai/files.py\u001b[0m in \u001b[0;36mupload_file\u001b[0;34m(path, mime_type, name, display_name)\u001b[0m\n\u001b[1;32m     50\u001b[0m         \u001b[0mdisplay_name\u001b[0m \u001b[0;34m=\u001b[0m \u001b[0mpath\u001b[0m\u001b[0;34m.\u001b[0m\u001b[0mname\u001b[0m\u001b[0;34m\u001b[0m\u001b[0;34m\u001b[0m\u001b[0m\n\u001b[1;32m     51\u001b[0m \u001b[0;34m\u001b[0m\u001b[0m\n\u001b[0;32m---> 52\u001b[0;31m     response = client.create_file(\n\u001b[0m\u001b[1;32m     53\u001b[0m         \u001b[0mpath\u001b[0m\u001b[0;34m=\u001b[0m\u001b[0mpath\u001b[0m\u001b[0;34m,\u001b[0m \u001b[0mmime_type\u001b[0m\u001b[0;34m=\u001b[0m\u001b[0mmime_type\u001b[0m\u001b[0;34m,\u001b[0m \u001b[0mname\u001b[0m\u001b[0;34m=\u001b[0m\u001b[0mname\u001b[0m\u001b[0;34m,\u001b[0m \u001b[0mdisplay_name\u001b[0m\u001b[0;34m=\u001b[0m\u001b[0mdisplay_name\u001b[0m\u001b[0;34m\u001b[0m\u001b[0;34m\u001b[0m\u001b[0m\n\u001b[1;32m     54\u001b[0m     )\n",
            "\u001b[0;32m/usr/local/lib/python3.10/dist-packages/google/generativeai/client.py\u001b[0m in \u001b[0;36mcreate_file\u001b[0;34m(self, path, mime_type, name, display_name)\u001b[0m\n\u001b[1;32m     70\u001b[0m             \u001b[0mfile\u001b[0m\u001b[0;34m[\u001b[0m\u001b[0;34m\"displayName\"\u001b[0m\u001b[0;34m]\u001b[0m \u001b[0;34m=\u001b[0m \u001b[0mdisplay_name\u001b[0m\u001b[0;34m\u001b[0m\u001b[0;34m\u001b[0m\u001b[0m\n\u001b[1;32m     71\u001b[0m \u001b[0;34m\u001b[0m\u001b[0m\n\u001b[0;32m---> 72\u001b[0;31m         \u001b[0mmedia\u001b[0m \u001b[0;34m=\u001b[0m \u001b[0mgoogleapiclient\u001b[0m\u001b[0;34m.\u001b[0m\u001b[0mhttp\u001b[0m\u001b[0;34m.\u001b[0m\u001b[0mMediaFileUpload\u001b[0m\u001b[0;34m(\u001b[0m\u001b[0mfilename\u001b[0m\u001b[0;34m=\u001b[0m\u001b[0mpath\u001b[0m\u001b[0;34m,\u001b[0m \u001b[0mmimetype\u001b[0m\u001b[0;34m=\u001b[0m\u001b[0mmime_type\u001b[0m\u001b[0;34m)\u001b[0m\u001b[0;34m\u001b[0m\u001b[0;34m\u001b[0m\u001b[0m\n\u001b[0m\u001b[1;32m     73\u001b[0m         \u001b[0mrequest\u001b[0m \u001b[0;34m=\u001b[0m \u001b[0mself\u001b[0m\u001b[0;34m.\u001b[0m\u001b[0m_discovery_api\u001b[0m\u001b[0;34m.\u001b[0m\u001b[0mmedia\u001b[0m\u001b[0;34m(\u001b[0m\u001b[0;34m)\u001b[0m\u001b[0;34m.\u001b[0m\u001b[0mupload\u001b[0m\u001b[0;34m(\u001b[0m\u001b[0mbody\u001b[0m\u001b[0;34m=\u001b[0m\u001b[0;34m{\u001b[0m\u001b[0;34m\"file\"\u001b[0m\u001b[0;34m:\u001b[0m \u001b[0mfile\u001b[0m\u001b[0;34m}\u001b[0m\u001b[0;34m,\u001b[0m \u001b[0mmedia_body\u001b[0m\u001b[0;34m=\u001b[0m\u001b[0mmedia\u001b[0m\u001b[0;34m)\u001b[0m\u001b[0;34m\u001b[0m\u001b[0;34m\u001b[0m\u001b[0m\n\u001b[1;32m     74\u001b[0m         \u001b[0mresult\u001b[0m \u001b[0;34m=\u001b[0m \u001b[0mrequest\u001b[0m\u001b[0;34m.\u001b[0m\u001b[0mexecute\u001b[0m\u001b[0;34m(\u001b[0m\u001b[0;34m)\u001b[0m\u001b[0;34m\u001b[0m\u001b[0;34m\u001b[0m\u001b[0m\n",
            "\u001b[0;32m/usr/local/lib/python3.10/dist-packages/googleapiclient/_helpers.py\u001b[0m in \u001b[0;36mpositional_wrapper\u001b[0;34m(*args, **kwargs)\u001b[0m\n\u001b[1;32m    128\u001b[0m                 \u001b[0;32melif\u001b[0m \u001b[0mpositional_parameters_enforcement\u001b[0m \u001b[0;34m==\u001b[0m \u001b[0mPOSITIONAL_WARNING\u001b[0m\u001b[0;34m:\u001b[0m\u001b[0;34m\u001b[0m\u001b[0;34m\u001b[0m\u001b[0m\n\u001b[1;32m    129\u001b[0m                     \u001b[0mlogger\u001b[0m\u001b[0;34m.\u001b[0m\u001b[0mwarning\u001b[0m\u001b[0;34m(\u001b[0m\u001b[0mmessage\u001b[0m\u001b[0;34m)\u001b[0m\u001b[0;34m\u001b[0m\u001b[0;34m\u001b[0m\u001b[0m\n\u001b[0;32m--> 130\u001b[0;31m             \u001b[0;32mreturn\u001b[0m \u001b[0mwrapped\u001b[0m\u001b[0;34m(\u001b[0m\u001b[0;34m*\u001b[0m\u001b[0margs\u001b[0m\u001b[0;34m,\u001b[0m \u001b[0;34m**\u001b[0m\u001b[0mkwargs\u001b[0m\u001b[0;34m)\u001b[0m\u001b[0;34m\u001b[0m\u001b[0;34m\u001b[0m\u001b[0m\n\u001b[0m\u001b[1;32m    131\u001b[0m \u001b[0;34m\u001b[0m\u001b[0m\n\u001b[1;32m    132\u001b[0m         \u001b[0;32mreturn\u001b[0m \u001b[0mpositional_wrapper\u001b[0m\u001b[0;34m\u001b[0m\u001b[0;34m\u001b[0m\u001b[0m\n",
            "\u001b[0;32m/usr/local/lib/python3.10/dist-packages/googleapiclient/http.py\u001b[0m in \u001b[0;36m__init__\u001b[0;34m(self, filename, mimetype, chunksize, resumable)\u001b[0m\n\u001b[1;32m    592\u001b[0m         \u001b[0mself\u001b[0m\u001b[0;34m.\u001b[0m\u001b[0m_fd\u001b[0m \u001b[0;34m=\u001b[0m \u001b[0;32mNone\u001b[0m\u001b[0;34m\u001b[0m\u001b[0;34m\u001b[0m\u001b[0m\n\u001b[1;32m    593\u001b[0m         \u001b[0mself\u001b[0m\u001b[0;34m.\u001b[0m\u001b[0m_filename\u001b[0m \u001b[0;34m=\u001b[0m \u001b[0mfilename\u001b[0m\u001b[0;34m\u001b[0m\u001b[0;34m\u001b[0m\u001b[0m\n\u001b[0;32m--> 594\u001b[0;31m         \u001b[0mself\u001b[0m\u001b[0;34m.\u001b[0m\u001b[0m_fd\u001b[0m \u001b[0;34m=\u001b[0m \u001b[0mopen\u001b[0m\u001b[0;34m(\u001b[0m\u001b[0mself\u001b[0m\u001b[0;34m.\u001b[0m\u001b[0m_filename\u001b[0m\u001b[0;34m,\u001b[0m \u001b[0;34m\"rb\"\u001b[0m\u001b[0;34m)\u001b[0m\u001b[0;34m\u001b[0m\u001b[0;34m\u001b[0m\u001b[0m\n\u001b[0m\u001b[1;32m    595\u001b[0m         \u001b[0;32mif\u001b[0m \u001b[0mmimetype\u001b[0m \u001b[0;32mis\u001b[0m \u001b[0;32mNone\u001b[0m\u001b[0;34m:\u001b[0m\u001b[0;34m\u001b[0m\u001b[0;34m\u001b[0m\u001b[0m\n\u001b[1;32m    596\u001b[0m             \u001b[0;31m# No mimetype provided, make a guess.\u001b[0m\u001b[0;34m\u001b[0m\u001b[0;34m\u001b[0m\u001b[0m\n",
            "\u001b[0;31mFileNotFoundError\u001b[0m: [Errno 2] No such file or directory: '<path>/image1.png'"
          ]
        }
      ]
    }
  ]
}