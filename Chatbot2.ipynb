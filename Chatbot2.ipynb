{
  "nbformat": 4,
  "nbformat_minor": 0,
  "metadata": {
    "colab": {
      "provenance": [],
      "include_colab_link": true
    },
    "kernelspec": {
      "name": "python3",
      "display_name": "Python 3"
    },
    "language_info": {
      "name": "python"
    }
  },
  "cells": [
    {
      "cell_type": "markdown",
      "metadata": {
        "id": "view-in-github",
        "colab_type": "text"
      },
      "source": [
        "<a href=\"https://colab.research.google.com/github/rodarantes/Projeto_Imersao_AI/blob/main/Chatbot2.ipynb\" target=\"_parent\"><img src=\"https://colab.research.google.com/assets/colab-badge.svg\" alt=\"Open In Colab\"/></a>"
      ]
    },
    {
      "cell_type": "code",
      "execution_count": 1,
      "metadata": {
        "id": "4GJT0kAgInh9",
        "colab": {
          "base_uri": "https://localhost:8080/",
          "height": 644
        },
        "outputId": "7a5490fd-5da0-4f37-c6b7-596e0e1190ce"
      },
      "outputs": [
        {
          "name": "stdout",
          "output_type": "stream",
          "text": [
            "Esperando prompt: me fale sobre o time galo doido\n",
            "Resposta:  **O Galo Doido**\n",
            "\n",
            "O Galo Doido é uma torcida organizada do Clube Atlético Mineiro, fundada em 1969. É considerada uma das mais tradicionais e fanáticas do Brasil.\n",
            "\n",
            "**Origem e História:**\n",
            "\n",
            "O nome \"Galo Doido\" surgiu a partir da mascote do Atlético Mineiro, o galo. A torcida foi fundada por um grupo de jovens que se reunia no Bar do Galo, no centro de Belo Horizonte. Inicialmente, eles se autodenominavam \"Galoucura\", mas o nome \"Galo Doido\" acabou prevalecendo.\n",
            "\n",
            "**Características:**\n",
            "\n",
            "* **Fanatismo:** O Galo Doido é conhecido por seu fanatismo incondicional pelo Atlético Mineiro. Seus membros comparecem em massa aos jogos, tanto em casa quanto fora, e são famosos por suas músicas e cantos apaixonados.\n",
            "* **Organização:** A torcida é altamente organizada, com uma estrutura hierárquica e um estatuto próprio. Possui vários grupos regionais e núcleos espalhados pelo Brasil e pelo mundo.\n",
            "* **Rivalidades:** O Galo Doido tem uma rivalidade histórica com a torcida organizada do Cruzeiro, o Maior de Minas. As duas torcidas se enfrentam em clássicos acirrados, conhecidos como \"Clássico Mineiro\".\n",
            "\n",
            "**Conquistas:**\n",
            "\n",
            "O Galo Doido é uma das torcidas mais premiadas do Brasil. Entre suas conquistas estão:\n",
            "\n",
            "* **Prêmio Globo Esporte de Torcida do Ano:** 1998, 2008, 2013 e 2014\n",
            "* **Prêmio Torcida Show:** 2006, 2007, 2008, 2009, 2010, 2011, 2012, 2013, 2014 e 2015\n",
            "\n",
            "**Influência:**\n",
            "\n",
            "O Galo Doido é uma torcida influente no cenário do futebol brasileiro. Sua paixão e organização servem de inspiração para outras torcidas organizadas. A torcida também tem um papel ativo na política do Atlético Mineiro, participando de assembleias e eleições.\n",
            "\n",
            "**Símbolos:**\n",
            "\n",
            "Os símbolos oficiais do Galo Doido são:\n",
            "\n",
            "* **Bandeira:** Vermelha e branca, com o símbolo do galo no centro\n",
            "* **Escudo:** Um escudo com as cores do Atlético Mineiro e o símbolo do galo\n",
            "* **Mascote:** Um galo vermelho e branco, chamado \"Galo Doido\" \n",
            "\n",
            "Esperando prompt: fim\n"
          ]
        }
      ],
      "source": [
        "!pip install -q -U google-generativeai\n",
        "# Import the Python SDK\n",
        "import google.generativeai as genai\n",
        "\n",
        "# Used to securely store your API key\n",
        "from google.colab import userdata\n",
        "GOOGLE_API_KEY=userdata.get('GOOGLE_API_KEY')\n",
        "genai.configure(api_key=GOOGLE_API_KEY)\n",
        "\n",
        "model = genai.GenerativeModel('gemini-pro')\n",
        "generation_config = {\n",
        "    \"candidate_count\": 1,\n",
        "    \"temperature\": 0.5,\n",
        "}\n",
        "\n",
        "safety_settings = {\n",
        "    \"HARASSMENT\": \"BLOCK_NONE\",\n",
        "    \"SEXUAL\": \"BLOCK_NONE\",\n",
        "    \"DANGEROUS\": \"BLOCK_NONE\",\n",
        "# Exemplo de padrão: \"HARASSMENT\": \"BLOCKSUM\",\n",
        "}\n",
        "\n",
        "model = genai.GenerativeModel(model_name=\"gemini-1.0-pro\",\n",
        "                              generation_config=generation_config,\n",
        "                              safety_settings=safety_settings)\n",
        "chat = model.start_chat(history=[])\n",
        "\n",
        "# Melhorando a visualização\n",
        "# Código disponível em https://ai.google.dev/tutorials/python/quickstart\n",
        "\n",
        "import textwrap\n",
        "from IPython.display import display\n",
        "from IPython.display import Markdown\n",
        "\n",
        "def to_markdown(text):\n",
        "    text = text.replace(\"'\", '\"')\n",
        "    return Markdown(textwrap.indent(text, '> '))\n",
        "\n",
        "# Imprimindo o histórico\n",
        "for message in chat.history:\n",
        "    display(to_markdown(f\"**{message.role}:** {message.parts[0].text}\"))\n",
        "    print(\"---\")\n",
        "\n",
        "prompt = input(\"Esperando prompt: \")\n",
        "while prompt != \"fim\":\n",
        "  response = chat.send_message(prompt)\n",
        "  print(\"Resposta: \", response.text, \"\\n\")\n",
        "  prompt = input(\"Esperando prompt: \")"
      ]
    }
  ]
}